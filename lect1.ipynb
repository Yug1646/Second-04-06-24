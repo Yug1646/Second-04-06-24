{
 "cells": [
  {
   "cell_type": "code",
   "execution_count": 2,
   "metadata": {},
   "outputs": [
    {
     "name": "stdout",
     "output_type": "stream",
     "text": [
      "Hello\n"
     ]
    }
   ],
   "source": [
    "print(\"Hello\")"
   ]
  },
  {
   "cell_type": "code",
   "execution_count": 10,
   "metadata": {},
   "outputs": [
    {
     "name": "stdout",
     "output_type": "stream",
     "text": [
      "10 Type of a is  <class 'int'>\n",
      "True Type of a is  <class 'bool'>\n",
      "10.5 Type of a is  <class 'float'>\n",
      "None Type of a is  <class 'NoneType'>\n"
     ]
    }
   ],
   "source": [
    "a = 10\n",
    "print(a,\"Type of a is \",type(a))\n",
    "a = True\n",
    "print(a,\"Type of a is \",type(a))\n",
    "a = 10.5\n",
    "print(a,\"Type of a is \",type(a))\n",
    "a = None\n",
    "print(a,\"Type of a is \",type(a))"
   ]
  },
  {
   "cell_type": "markdown",
   "metadata": {},
   "source": [
    "Indentation\n",
    "ignore warning solve error"
   ]
  },
  {
   "cell_type": "code",
   "execution_count": 16,
   "metadata": {},
   "outputs": [
    {
     "name": "stdout",
     "output_type": "stream",
     "text": [
      "b is greater\n",
      "done\n"
     ]
    }
   ],
   "source": [
    "#if (condition)\n",
    "#{\n",
    "\n",
    "#}\n",
    "\n",
    "a = 10\n",
    "b = 15\n",
    "\n",
    "\"\"\"if (a>b) :\n",
    "        print(\"a is greater\")\"\"\"\n",
    "\n",
    "if a>b :\n",
    "    print(\"a is greater\")\n",
    "else :\n",
    "    print(\"b is greater\")\n",
    "\n",
    "print(\"done\") #out of if statement"
   ]
  },
  {
   "cell_type": "markdown",
   "metadata": {},
   "source": [
    "Type of modes:\n",
    "Scripting mode \n",
    "Interacting mode : IDLE\n",
    "eg : \n",
    "    3+4\n",
    "    7\n",
    "\n",
    "Single python file is a module\n",
    "extension : .py\n",
    "python doesn't need \"\\n\"\n",
    "To continue the line use \"end=\"\"\" and for space : end=\" \""
   ]
  },
  {
   "cell_type": "markdown",
   "metadata": {},
   "source": [
    "Operator:\n",
    "    Arithmetic : (%,^,//,**)\n",
    "    Assignment : used to assign value to variable\n",
    "    Comparison : used to compare two values\n",
    "    Logical : AND[&&],OR[||],NOT[!]\n",
    "    Bitwise : [|],[&],[^]:caret,>>,<<\n",
    "    Identity : compares variables and checks the address of operand\n",
    "                is : same as == : compares address directly\n",
    "                is not : find it \n",
    "    Membership : used to check whether a value/variable exists in sequence like string,tuples,sets,dictionary or not\n",
    "                note : python is case sensitive"
   ]
  },
  {
   "cell_type": "code",
   "execution_count": 39,
   "metadata": {},
   "outputs": [
    {
     "name": "stdout",
     "output_type": "stream",
     "text": [
      "40\n",
      "2\n"
     ]
    }
   ],
   "source": [
    "# a = \"Yug \"\n",
    "# b = \"Jain\"\n",
    "# print(a+b)\n",
    "\n",
    "# print(1/1)\n",
    "# print(1//1) #floor division\n",
    "\n",
    "# print(2*2)\n",
    "# print(2**3)  #exponent\n",
    "\n",
    "# a = 10\n",
    "# # a += 10\n",
    "# # print(a)\n",
    "\n",
    "# a**=2\n",
    "# print(a)\n",
    "\n",
    "# a//=2\n",
    "# print(a)\n",
    "\n",
    "# a = True\n",
    "# b = False\n",
    "\n",
    "# print(\"a and b is\",a and b)\n",
    "\n",
    "# print(\"a or b is\",a or b)\n",
    "\n",
    "# print(\"a not is\",not a)\n",
    "\n",
    "# a = 10\n",
    "# print(a<<2)\n",
    "\n",
    "# print(a>>2)\n"
   ]
  },
  {
   "cell_type": "code",
   "execution_count": 42,
   "metadata": {},
   "outputs": [
    {
     "name": "stdout",
     "output_type": "stream",
     "text": [
      "True\n"
     ]
    }
   ],
   "source": [
    "# a = 1\n",
    "# b = 1\n",
    "# print(a is b)\n",
    "\n",
    "name = \"Yug\"\n",
    "print('Y'in name)"
   ]
  }
 ],
 "metadata": {
  "kernelspec": {
   "display_name": "Python 3",
   "language": "python",
   "name": "python3"
  },
  "language_info": {
   "name": "python",
   "version": "3.12.3"
  }
 },
 "nbformat": 4,
 "nbformat_minor": 2
}
